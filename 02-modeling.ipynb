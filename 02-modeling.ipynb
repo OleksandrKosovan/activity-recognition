{
 "cells": [
  {
   "cell_type": "markdown",
   "metadata": {},
   "source": [
    "# Accelerometer Signals Classification for Activity and Movement Recognition\n",
    "\n",
    "![img](https://camo.githubusercontent.com/ec2708af7a740e1a2396b777cf336b7c9804dc28/68747470733a2f2f7777772e616e64726f6964686976652e696e666f2f77702d636f6e74656e742f75706c6f6164732f323031372f31322f616e64726f69642d757365722d61637469766974792d7265636f676e6974696f6e2d7374696c6c2d77616c6b696e672d72756e6e696e672d64726976696e672e6a7067)"
   ]
  },
  {
   "cell_type": "markdown",
   "metadata": {},
   "source": [
    "### Content\n",
    "1. [Import Modules](#Import)\n",
    "2. [Read data](#2.-Read-data)\n",
    "3. [Data preparation](#3.-Data-preparation)\n",
    "4. [Split data](#4.-Split-data)\n",
    "5. [Modeling](#5.-Modeling)\n",
    "\n",
    " - 5.1. [Logistic Regression](#5.1.-Logistic-Regression)\n",
    " - 5.2. [Random Forest](#5.2.-Random-Forest)\n",
    " - 5.3. [Support Vector Classification](#5.3.-Support-Vector-Classification)\n",
    " - 5.4. [Decision Tree](#5.4.-Decision-Tree-Classifier)\n",
    " - 5.5. [Gradient Boosting Classifier](#5.5.-Gradient-Boosting-Classifier)"
   ]
  },
  {
   "cell_type": "markdown",
   "metadata": {},
   "source": [
    "### 1. Import"
   ]
  },
  {
   "cell_type": "code",
   "execution_count": 21,
   "metadata": {},
   "outputs": [],
   "source": [
    "import sys"
   ]
  },
  {
   "cell_type": "code",
   "execution_count": 22,
   "metadata": {},
   "outputs": [],
   "source": [
    "import numpy as np\n",
    "import pandas as pd"
   ]
  },
  {
   "cell_type": "code",
   "execution_count": 23,
   "metadata": {},
   "outputs": [],
   "source": [
    "from sklearn.model_selection import train_test_split\n",
    "from sklearn.metrics import classification_report\n",
    "from sklearn.metrics import confusion_matrix"
   ]
  },
  {
   "cell_type": "code",
   "execution_count": 24,
   "metadata": {},
   "outputs": [],
   "source": [
    "from sklearn.ensemble import RandomForestClassifier\n",
    "from sklearn.svm import SVC\n",
    "from sklearn.linear_model import LogisticRegression\n",
    "from sklearn.tree import DecisionTreeClassifier\n",
    "from sklearn.ensemble import GradientBoostingClassifier"
   ]
  },
  {
   "cell_type": "code",
   "execution_count": 25,
   "metadata": {},
   "outputs": [],
   "source": [
    "import seaborn as sns\n",
    "import matplotlib.pyplot as plt"
   ]
  },
  {
   "cell_type": "markdown",
   "metadata": {},
   "source": [
    "### 2. Read data"
   ]
  },
  {
   "cell_type": "code",
   "execution_count": 26,
   "metadata": {},
   "outputs": [],
   "source": [
    "df = pd.read_csv('data/final_data.csv')"
   ]
  },
  {
   "cell_type": "code",
   "execution_count": 27,
   "metadata": {},
   "outputs": [
    {
     "data": {
      "text/plain": [
       "(6462, 10)"
      ]
     },
     "execution_count": 27,
     "metadata": {},
     "output_type": "execute_result"
    }
   ],
   "source": [
    "df.shape"
   ]
  },
  {
   "cell_type": "code",
   "execution_count": 28,
   "metadata": {},
   "outputs": [
    {
     "data": {
      "text/html": [
       "<div>\n",
       "<style scoped>\n",
       "    .dataframe tbody tr th:only-of-type {\n",
       "        vertical-align: middle;\n",
       "    }\n",
       "\n",
       "    .dataframe tbody tr th {\n",
       "        vertical-align: top;\n",
       "    }\n",
       "\n",
       "    .dataframe thead th {\n",
       "        text-align: right;\n",
       "    }\n",
       "</style>\n",
       "<table border=\"1\" class=\"dataframe\">\n",
       "  <thead>\n",
       "    <tr style=\"text-align: right;\">\n",
       "      <th></th>\n",
       "      <th>x_mean</th>\n",
       "      <th>y_mean</th>\n",
       "      <th>z_mean</th>\n",
       "      <th>x_std</th>\n",
       "      <th>y_std</th>\n",
       "      <th>z_std</th>\n",
       "      <th>x_peaks</th>\n",
       "      <th>y_peaks</th>\n",
       "      <th>z_peaks</th>\n",
       "      <th>target</th>\n",
       "    </tr>\n",
       "  </thead>\n",
       "  <tbody>\n",
       "    <tr>\n",
       "      <th>0</th>\n",
       "      <td>7.409416</td>\n",
       "      <td>9.976958</td>\n",
       "      <td>-0.256978</td>\n",
       "      <td>8.627367</td>\n",
       "      <td>11.912025</td>\n",
       "      <td>5.343059</td>\n",
       "      <td>9</td>\n",
       "      <td>11</td>\n",
       "      <td>9</td>\n",
       "      <td>running</td>\n",
       "    </tr>\n",
       "    <tr>\n",
       "      <th>1</th>\n",
       "      <td>5.468038</td>\n",
       "      <td>6.951644</td>\n",
       "      <td>1.152409</td>\n",
       "      <td>7.209416</td>\n",
       "      <td>9.627981</td>\n",
       "      <td>7.018684</td>\n",
       "      <td>11</td>\n",
       "      <td>10</td>\n",
       "      <td>9</td>\n",
       "      <td>running</td>\n",
       "    </tr>\n",
       "    <tr>\n",
       "      <th>2</th>\n",
       "      <td>7.893204</td>\n",
       "      <td>8.591353</td>\n",
       "      <td>-0.739170</td>\n",
       "      <td>10.567628</td>\n",
       "      <td>11.142983</td>\n",
       "      <td>9.375746</td>\n",
       "      <td>10</td>\n",
       "      <td>9</td>\n",
       "      <td>8</td>\n",
       "      <td>running</td>\n",
       "    </tr>\n",
       "    <tr>\n",
       "      <th>3</th>\n",
       "      <td>6.006893</td>\n",
       "      <td>8.418812</td>\n",
       "      <td>-0.534067</td>\n",
       "      <td>9.679843</td>\n",
       "      <td>17.851874</td>\n",
       "      <td>5.058515</td>\n",
       "      <td>8</td>\n",
       "      <td>10</td>\n",
       "      <td>9</td>\n",
       "      <td>running</td>\n",
       "    </tr>\n",
       "    <tr>\n",
       "      <th>4</th>\n",
       "      <td>8.396306</td>\n",
       "      <td>9.223423</td>\n",
       "      <td>2.074177</td>\n",
       "      <td>10.749277</td>\n",
       "      <td>12.921490</td>\n",
       "      <td>8.827352</td>\n",
       "      <td>9</td>\n",
       "      <td>8</td>\n",
       "      <td>9</td>\n",
       "      <td>running</td>\n",
       "    </tr>\n",
       "  </tbody>\n",
       "</table>\n",
       "</div>"
      ],
      "text/plain": [
       "     x_mean    y_mean    z_mean      x_std      y_std     z_std  x_peaks  \\\n",
       "0  7.409416  9.976958 -0.256978   8.627367  11.912025  5.343059        9   \n",
       "1  5.468038  6.951644  1.152409   7.209416   9.627981  7.018684       11   \n",
       "2  7.893204  8.591353 -0.739170  10.567628  11.142983  9.375746       10   \n",
       "3  6.006893  8.418812 -0.534067   9.679843  17.851874  5.058515        8   \n",
       "4  8.396306  9.223423  2.074177  10.749277  12.921490  8.827352        9   \n",
       "\n",
       "   y_peaks  z_peaks   target  \n",
       "0       11        9  running  \n",
       "1       10        9  running  \n",
       "2        9        8  running  \n",
       "3       10        9  running  \n",
       "4        8        9  running  "
      ]
     },
     "execution_count": 28,
     "metadata": {},
     "output_type": "execute_result"
    }
   ],
   "source": [
    "df.head()"
   ]
  },
  {
   "cell_type": "markdown",
   "metadata": {},
   "source": [
    "### 3. Data preparation\n",
    "\n",
    "We need to randomize the data"
   ]
  },
  {
   "cell_type": "code",
   "execution_count": 29,
   "metadata": {},
   "outputs": [],
   "source": [
    "df = df.sample(frac=1).reset_index(drop=True)"
   ]
  },
  {
   "cell_type": "code",
   "execution_count": 30,
   "metadata": {},
   "outputs": [
    {
     "data": {
      "text/plain": [
       "(6462, 10)"
      ]
     },
     "execution_count": 30,
     "metadata": {},
     "output_type": "execute_result"
    }
   ],
   "source": [
    "df.shape"
   ]
  },
  {
   "cell_type": "code",
   "execution_count": 31,
   "metadata": {},
   "outputs": [
    {
     "data": {
      "text/html": [
       "<div>\n",
       "<style scoped>\n",
       "    .dataframe tbody tr th:only-of-type {\n",
       "        vertical-align: middle;\n",
       "    }\n",
       "\n",
       "    .dataframe tbody tr th {\n",
       "        vertical-align: top;\n",
       "    }\n",
       "\n",
       "    .dataframe thead th {\n",
       "        text-align: right;\n",
       "    }\n",
       "</style>\n",
       "<table border=\"1\" class=\"dataframe\">\n",
       "  <thead>\n",
       "    <tr style=\"text-align: right;\">\n",
       "      <th></th>\n",
       "      <th>x_mean</th>\n",
       "      <th>y_mean</th>\n",
       "      <th>z_mean</th>\n",
       "      <th>x_std</th>\n",
       "      <th>y_std</th>\n",
       "      <th>z_std</th>\n",
       "      <th>x_peaks</th>\n",
       "      <th>y_peaks</th>\n",
       "      <th>z_peaks</th>\n",
       "      <th>target</th>\n",
       "    </tr>\n",
       "  </thead>\n",
       "  <tbody>\n",
       "    <tr>\n",
       "      <th>0</th>\n",
       "      <td>6.220296</td>\n",
       "      <td>8.387048</td>\n",
       "      <td>0.204146</td>\n",
       "      <td>9.891297</td>\n",
       "      <td>14.316819</td>\n",
       "      <td>4.403547</td>\n",
       "      <td>10</td>\n",
       "      <td>9</td>\n",
       "      <td>9</td>\n",
       "      <td>running</td>\n",
       "    </tr>\n",
       "    <tr>\n",
       "      <th>1</th>\n",
       "      <td>0.257776</td>\n",
       "      <td>-0.007183</td>\n",
       "      <td>9.765151</td>\n",
       "      <td>0.026113</td>\n",
       "      <td>0.018862</td>\n",
       "      <td>0.016277</td>\n",
       "      <td>9</td>\n",
       "      <td>9</td>\n",
       "      <td>8</td>\n",
       "      <td>idle</td>\n",
       "    </tr>\n",
       "    <tr>\n",
       "      <th>2</th>\n",
       "      <td>5.973693</td>\n",
       "      <td>7.974288</td>\n",
       "      <td>-0.473573</td>\n",
       "      <td>7.491366</td>\n",
       "      <td>13.281213</td>\n",
       "      <td>5.955791</td>\n",
       "      <td>7</td>\n",
       "      <td>9</td>\n",
       "      <td>9</td>\n",
       "      <td>running</td>\n",
       "    </tr>\n",
       "    <tr>\n",
       "      <th>3</th>\n",
       "      <td>-3.812527</td>\n",
       "      <td>-9.844638</td>\n",
       "      <td>-1.511220</td>\n",
       "      <td>3.280564</td>\n",
       "      <td>5.934176</td>\n",
       "      <td>6.012053</td>\n",
       "      <td>7</td>\n",
       "      <td>10</td>\n",
       "      <td>10</td>\n",
       "      <td>walking</td>\n",
       "    </tr>\n",
       "    <tr>\n",
       "      <th>4</th>\n",
       "      <td>-4.912902</td>\n",
       "      <td>-10.031226</td>\n",
       "      <td>-0.565351</td>\n",
       "      <td>5.001124</td>\n",
       "      <td>4.997343</td>\n",
       "      <td>9.861839</td>\n",
       "      <td>10</td>\n",
       "      <td>8</td>\n",
       "      <td>8</td>\n",
       "      <td>walking</td>\n",
       "    </tr>\n",
       "  </tbody>\n",
       "</table>\n",
       "</div>"
      ],
      "text/plain": [
       "     x_mean     y_mean    z_mean     x_std      y_std     z_std  x_peaks  \\\n",
       "0  6.220296   8.387048  0.204146  9.891297  14.316819  4.403547       10   \n",
       "1  0.257776  -0.007183  9.765151  0.026113   0.018862  0.016277        9   \n",
       "2  5.973693   7.974288 -0.473573  7.491366  13.281213  5.955791        7   \n",
       "3 -3.812527  -9.844638 -1.511220  3.280564   5.934176  6.012053        7   \n",
       "4 -4.912902 -10.031226 -0.565351  5.001124   4.997343  9.861839       10   \n",
       "\n",
       "   y_peaks  z_peaks   target  \n",
       "0        9        9  running  \n",
       "1        9        8     idle  \n",
       "2        9        9  running  \n",
       "3       10       10  walking  \n",
       "4        8        8  walking  "
      ]
     },
     "execution_count": 31,
     "metadata": {},
     "output_type": "execute_result"
    }
   ],
   "source": [
    "df.head()"
   ]
  },
  {
   "cell_type": "markdown",
   "metadata": {},
   "source": [
    "### 4. Split data"
   ]
  },
  {
   "cell_type": "code",
   "execution_count": 32,
   "metadata": {},
   "outputs": [],
   "source": [
    "x_columns = [\n",
    "    'x_mean', 'y_mean', 'z_mean', \n",
    "    'x_std', 'y_std', 'z_std', \n",
    "    'x_peaks', 'y_peaks', 'z_peaks'\n",
    "]\n",
    "X = df[x_columns]\n",
    "y = df.target"
   ]
  },
  {
   "cell_type": "code",
   "execution_count": 33,
   "metadata": {},
   "outputs": [],
   "source": [
    "X_train, X_test, y_train, y_test = train_test_split(\n",
    "    X, y, test_size=0.33, random_state=42\n",
    ")"
   ]
  },
  {
   "cell_type": "code",
   "execution_count": 34,
   "metadata": {},
   "outputs": [
    {
     "name": "stdout",
     "output_type": "stream",
     "text": [
      "X tran shape: (4329, 9)\n",
      "X test shape: (2133, 9)\n",
      "y tran shape: (4329,)\n",
      "y test shape: (2133,)\n"
     ]
    }
   ],
   "source": [
    "print('X tran shape:', X_train.shape)\n",
    "print('X test shape:', X_test.shape)\n",
    "print('y tran shape:', y_train.shape)\n",
    "print('y test shape:', y_test.shape)"
   ]
  },
  {
   "cell_type": "markdown",
   "metadata": {},
   "source": [
    "### 5. Modeling"
   ]
  },
  {
   "cell_type": "code",
   "execution_count": 35,
   "metadata": {},
   "outputs": [],
   "source": [
    "labels = df.target.unique()"
   ]
  },
  {
   "cell_type": "code",
   "execution_count": 36,
   "metadata": {},
   "outputs": [],
   "source": [
    "def train_model(model):\n",
    "    model.fit(X_train, y_train)\n",
    "    y_pred = model.predict(X_test)\n",
    "    print(classification_report(y_test, y_pred))\n",
    "    return confusion_matrix(y_test, y_pred)"
   ]
  },
  {
   "cell_type": "code",
   "execution_count": 37,
   "metadata": {},
   "outputs": [],
   "source": [
    "def visualize_confusion_matrix(cm, labels=labels):\n",
    "    df_cm = pd.DataFrame(cm, columns=labels, index=labels)\n",
    "    df_cm.index.name = 'Actual'\n",
    "    df_cm.columns.name = 'Predicted'\n",
    "    plt.figure(figsize = (10,7))\n",
    "    sns.set(font_scale=1.4)#for label size\n",
    "    sns.heatmap(df_cm, cmap=\"Blues\", annot=True, annot_kws={\"size\": 16}, fmt='g')"
   ]
  },
  {
   "cell_type": "markdown",
   "metadata": {},
   "source": [
    "###### 5.1. Logistic Regression"
   ]
  },
  {
   "cell_type": "code",
   "execution_count": 38,
   "metadata": {},
   "outputs": [
    {
     "name": "stdout",
     "output_type": "stream",
     "text": [
      "              precision    recall  f1-score   support\n",
      "\n",
      "        idle       1.00      1.00      1.00       327\n",
      "     running       1.00      1.00      1.00      1160\n",
      "      stairs       0.84      0.71      0.77        52\n",
      "     walking       0.98      0.99      0.98       594\n",
      "\n",
      "    accuracy                           0.99      2133\n",
      "   macro avg       0.95      0.92      0.94      2133\n",
      "weighted avg       0.99      0.99      0.99      2133\n",
      "\n"
     ]
    },
    {
     "name": "stderr",
     "output_type": "stream",
     "text": [
      "/Users/oleksandrkosovan/opt/anaconda3/envs/myenv/lib/python3.7/site-packages/sklearn/linear_model/_logistic.py:940: ConvergenceWarning: lbfgs failed to converge (status=1):\n",
      "STOP: TOTAL NO. of ITERATIONS REACHED LIMIT.\n",
      "\n",
      "Increase the number of iterations (max_iter) or scale the data as shown in:\n",
      "    https://scikit-learn.org/stable/modules/preprocessing.html\n",
      "Please also refer to the documentation for alternative solver options:\n",
      "    https://scikit-learn.org/stable/modules/linear_model.html#logistic-regression\n",
      "  extra_warning_msg=_LOGISTIC_SOLVER_CONVERGENCE_MSG)\n"
     ]
    }
   ],
   "source": [
    "lr = LogisticRegression()\n",
    "lr_cm = train_model(lr)"
   ]
  },
  {
   "cell_type": "code",
   "execution_count": 39,
   "metadata": {},
   "outputs": [
    {
     "data": {
      "image/png": "[encoded data removed]",
      "text/plain": [
       "<Figure size 720x504 with 2 Axes>"
      ]
     },
     "metadata": {
      "needs_background": "light"
     },
     "output_type": "display_data"
    }
   ],
   "source": [
    "visualize_confusion_matrix(lr_cm)"
   ]
  },
  {
   "cell_type": "markdown",
   "metadata": {},
   "source": [
    "###### 5.2. Random Forest"
   ]
  },
  {
   "cell_type": "code",
   "execution_count": 40,
   "metadata": {},
   "outputs": [
    {
     "name": "stdout",
     "output_type": "stream",
     "text": [
      "              precision    recall  f1-score   support\n",
      "\n",
      "        idle       1.00      1.00      1.00       327\n",
      "     running       1.00      1.00      1.00      1160\n",
      "      stairs       1.00      0.92      0.96        52\n",
      "     walking       0.99      1.00      1.00       594\n",
      "\n",
      "    accuracy                           1.00      2133\n",
      "   macro avg       1.00      0.98      0.99      2133\n",
      "weighted avg       1.00      1.00      1.00      2133\n",
      "\n"
     ]
    }
   ],
   "source": [
    "rf = RandomForestClassifier()\n",
    "rf_cm = train_model(rf)"
   ]
  },
  {
   "cell_type": "code",
   "execution_count": 41,
   "metadata": {},
   "outputs": [
    {
     "data": {
      "image/png": "[encoded data removed]",
      "text/plain": [
       "<Figure size 720x504 with 2 Axes>"
      ]
     },
     "metadata": {},
     "output_type": "display_data"
    }
   ],
   "source": [
    "visualize_confusion_matrix(rf_cm)"
   ]
  },
  {
   "cell_type": "markdown",
   "metadata": {},
   "source": [
    "###### 5.3. Support Vector Classification"
   ]
  },
  {
   "cell_type": "code",
   "execution_count": 42,
   "metadata": {},
   "outputs": [
    {
     "name": "stdout",
     "output_type": "stream",
     "text": [
      "              precision    recall  f1-score   support\n",
      "\n",
      "        idle       1.00      1.00      1.00       327\n",
      "     running       1.00      1.00      1.00      1160\n",
      "      stairs       0.97      0.54      0.69        52\n",
      "     walking       0.96      1.00      0.98       594\n",
      "\n",
      "    accuracy                           0.99      2133\n",
      "   macro avg       0.98      0.88      0.92      2133\n",
      "weighted avg       0.99      0.99      0.99      2133\n",
      "\n"
     ]
    }
   ],
   "source": [
    "svc = SVC()\n",
    "svc_cm = train_model(svc)"
   ]
  },
  {
   "cell_type": "code",
   "execution_count": 43,
   "metadata": {},
   "outputs": [
    {
     "data": {
      "image/png": "[encoded data removed]",
      "text/plain": [
       "<Figure size 720x504 with 2 Axes>"
      ]
     },
     "metadata": {},
     "output_type": "display_data"
    }
   ],
   "source": [
    "visualize_confusion_matrix(svc_cm)"
   ]
  },
  {
   "cell_type": "markdown",
   "metadata": {},
   "source": [
    "###### 5.4. Decision Tree Classifier"
   ]
  },
  {
   "cell_type": "code",
   "execution_count": 44,
   "metadata": {},
   "outputs": [
    {
     "name": "stdout",
     "output_type": "stream",
     "text": [
      "              precision    recall  f1-score   support\n",
      "\n",
      "        idle       1.00      1.00      1.00       327\n",
      "     running       1.00      1.00      1.00      1160\n",
      "      stairs       0.89      0.81      0.85        52\n",
      "     walking       0.98      0.99      0.99       594\n",
      "\n",
      "    accuracy                           0.99      2133\n",
      "   macro avg       0.97      0.95      0.96      2133\n",
      "weighted avg       0.99      0.99      0.99      2133\n",
      "\n"
     ]
    }
   ],
   "source": [
    "dt = DecisionTreeClassifier()\n",
    "dt_cm = train_model(dt)"
   ]
  },
  {
   "cell_type": "code",
   "execution_count": 45,
   "metadata": {},
   "outputs": [
    {
     "data": {
      "image/png": "[encoded data removed]",
      "text/plain": [
       "<Figure size 720x504 with 2 Axes>"
      ]
     },
     "metadata": {},
     "output_type": "display_data"
    }
   ],
   "source": [
    "visualize_confusion_matrix(dt_cm)"
   ]
  },
  {
   "cell_type": "markdown",
   "metadata": {},
   "source": [
    "##### 5.5. Gradient Boosting Classifier"
   ]
  },
  {
   "cell_type": "code",
   "execution_count": 46,
   "metadata": {},
   "outputs": [
    {
     "name": "stdout",
     "output_type": "stream",
     "text": [
      "              precision    recall  f1-score   support\n",
      "\n",
      "        idle       1.00      0.99      1.00       327\n",
      "     running       1.00      1.00      1.00      1160\n",
      "      stairs       0.94      0.94      0.94        52\n",
      "     walking       0.99      1.00      1.00       594\n",
      "\n",
      "    accuracy                           1.00      2133\n",
      "   macro avg       0.98      0.98      0.98      2133\n",
      "weighted avg       1.00      1.00      1.00      2133\n",
      "\n"
     ]
    }
   ],
   "source": [
    "gb = GradientBoostingClassifier()\n",
    "gb_cm = train_model(gb)"
   ]
  },
  {
   "cell_type": "code",
   "execution_count": 47,
   "metadata": {},
   "outputs": [
    {
     "data": {
      "image/png": "[encoded data removed]",
      "text/plain": [
       "<Figure size 720x504 with 2 Axes>"
      ]
     },
     "metadata": {},
     "output_type": "display_data"
    }
   ],
   "source": [
    "visualize_confusion_matrix(gb_cm)"
   ]
  },
  {
   "cell_type": "markdown",
   "metadata": {},
   "source": [
    "### [To start of notebook](#Accelerometer-Signals-Classification-for-Activity-and-Movement-Recognition)"
   ]
  }
 ],
 "metadata": {
  "kernelspec": {
   "display_name": "Python (myenv)",
   "language": "python",
   "name": "myenv"
  },
  "language_info": {
   "codemirror_mode": {
    "name": "ipython",
    "version": 3
   },
   "file_extension": ".py",
   "mimetype": "text/x-python",
   "name": "python",
   "nbconvert_exporter": "python",
   "pygments_lexer": "ipython3",
   "version": "3.7.5"
  }
 },
 "nbformat": 4,
 "nbformat_minor": 2
}
